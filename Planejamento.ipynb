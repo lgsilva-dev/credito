{
  "nbformat": 4,
  "nbformat_minor": 0,
  "metadata": {
    "colab": {
      "provenance": [],
      "toc_visible": true,
      "authorship_tag": "ABX9TyPAXZPsnVFbogcCmdDgIqI2",
      "include_colab_link": true
    },
    "kernelspec": {
      "name": "python3",
      "display_name": "Python 3"
    },
    "language_info": {
      "name": "python"
    }
  },
  "cells": [
    {
      "cell_type": "markdown",
      "metadata": {
        "id": "view-in-github",
        "colab_type": "text"
      },
      "source": [
        "<a href=\"https://colab.research.google.com/github/lgsilva-dev/credito/blob/main/Planejamento.ipynb\" target=\"_parent\"><img src=\"https://colab.research.google.com/assets/colab-badge.svg\" alt=\"Open In Colab\"/></a>"
      ]
    },
    {
      "cell_type": "markdown",
      "source": [
        "# Planejamento e Processos Realizados"
      ],
      "metadata": {
        "id": "bKPY41cvV4ui"
      }
    },
    {
      "cell_type": "markdown",
      "source": [
        "<img src=\"https://media.licdn.com/dms/image/v2/D4D3DAQE0mtE4fSe4og/image-scale_191_1128/B4DZXYdujVGkAc-/0/1743093426983/go_on_associated_cover?e=2147483647&v=beta&t=soROqVvcqUFXZ7L3l4jbaU65Wsa7ZV2urLIfzGouhTY\" width=\"70%\">\n"
      ],
      "metadata": {
        "id": "LmB-4eM4iQ0P"
      }
    },
    {
      "cell_type": "markdown",
      "source": [
        "### Etapas\n",
        "1. **Entendimento do Negócio.**\n",
        "\n",
        "2. **Entendimento dos Dados.**\n",
        "\n",
        "3. Criação do Conjunto de Dados.\n",
        "\n",
        "4. **Preparação dos Dados.**\n",
        "\n",
        "5. AED (Análise Exploratória dos Dados).\n",
        "\n",
        "6. **Modelagem e Treinamento.**\n",
        "\n",
        "7. **Validação dos Modelos.**\n",
        "\n",
        "8. **Deployment (Implantação do Modelo)**\n",
        "\n"
      ],
      "metadata": {
        "id": "ZSCtrAYXWYd1"
      }
    },
    {
      "cell_type": "markdown",
      "source": [
        "* O planejamento do projeto foi desenvolvido com base na **metodologia CRISP-DS (Cross Industry Standard Process for Data Science)**, um processo cíclico amplamente utilizado em Ciência de Dados. A metodologia é composta por **seis etapas principais e interdependentes**, que orientam o desenvolvimento de projetos de forma estruturada e iterativa."
      ],
      "metadata": {
        "id": "CghDjFChWOL1"
      }
    },
    {
      "cell_type": "markdown",
      "source": [
        "-------"
      ],
      "metadata": {
        "id": "lBrHRxBCWOJU"
      }
    },
    {
      "cell_type": "markdown",
      "source": [
        "## 1. **Entendimento do Negócio**"
      ],
      "metadata": {
        "id": "kubUwx0as5YG"
      }
    },
    {
      "cell_type": "markdown",
      "source": [
        "* A partir da necessidade de otimizar e aperfeiçoar o processo de análise, liberação de limite e concessão de crédito, foi entendido que seria viável utilizar modelos de Machine Learning para realizar uma predição de concessão, a fim de sugerir ao analista uma análise composta a partir de dados e aprovações vindas da própria empresa analisada, ou seja, os critérios utilizados pelo modelo para aprovação são os mesmos que os analistas já utilizam na empresa, pois o modelo irá aprender o comportamento dos analistas com base nos dados históricos que demonstram a \"saúde\" da empresa, dados esses vindos de documentos como DRE, Balanço Patrimonial e Serasa, informações que os analistas consideram ao analisar crédito."
      ],
      "metadata": {
        "id": "5nabT3antMU8"
      }
    },
    {
      "cell_type": "markdown",
      "source": [
        "* Em conjunto a isto, foi necessário entender sobre os tipos de documentos, os pesos deles em cada cenário e também recorrer a uma pessoa que trabalhou na área para validar hipóteses e questionamentos."
      ],
      "metadata": {
        "id": "lBAEbOOGvn-I"
      }
    },
    {
      "cell_type": "markdown",
      "source": [
        "## 2. **Entendimento dos Dados**"
      ],
      "metadata": {
        "id": "BBOjdt94tAX8"
      }
    },
    {
      "cell_type": "markdown",
      "source": [
        "* Como o projeto tem como foco a análise, a definição de limite e a concessão de crédito, espera-se que o conjunto de dados contenha tanto as informações utilizadas pelos analistas no momento da tomada de decisão quanto os resultados dessas decisões. Isso permite que o modelo aprenda, a partir de exemplos reais, em quais cenários o crédito deve ser concedido e qual o valor ideal de limite a ser liberado para cada empresa.\n",
        "\n"
      ],
      "metadata": {
        "id": "t9pj33pdw6I_"
      }
    },
    {
      "cell_type": "markdown",
      "source": [
        "* Os dados reais disponíveis para análise, após serem transformados em formato tabular, resultaram em cinco exemplos referentes a cinco empresas distintas.\n",
        "\n",
        "* Estes dados não são suficientes para criar um modelo de análise de crédito."
      ],
      "metadata": {
        "id": "2Vud_xTeyXqw"
      }
    },
    {
      "cell_type": "markdown",
      "source": [
        "## 3. Criação do Conjunto de Dados"
      ],
      "metadata": {
        "id": "W1D1T3zttDXG"
      }
    },
    {
      "cell_type": "markdown",
      "source": [
        "* Como se trata de um estudo de caso, surgiu a necessidade de aumentar este conjunto de dados de forma sintética:\n",
        " - O conjunto foi gerado com auxílio do Claude AI da Anthropic.\n",
        " - Todo o contexto do projeto foi fornecido à ferramenta, incluindo os objetivos, exemplos de casos e dados reais.\n",
        " - Os dados foram gerados já considerando o balanceamento das categorias a serem analisadas, apresentando uma quantidade relevante de cenários para o modelo.\n",
        " - Os dados também estão todos na mesma escala de valor.\n",
        " - Foi gerado um conjunto de dados livre de valores nulos e duplicados, garantindo maior aproveitamento do dataset.\n",
        " - Os dados passaram por uma validação que incluiu a verificação da distribuição dos valores para garantir que fossem próximos da realidade, a validação das fórmulas de Limite de Crédito e também dos cálculos de Score e Rating, que são derivados de outras notas.\n",
        " - O time funcional também participou da validação dos dados, fornecendo uma segunda aprovação sobre o conjunto."
      ],
      "metadata": {
        "id": "sqf_lvDLy3vp"
      }
    },
    {
      "cell_type": "markdown",
      "source": [
        "## 4. **Preparação dos Dados**"
      ],
      "metadata": {
        "id": "UezsDF7JtDZc"
      }
    },
    {
      "cell_type": "markdown",
      "source": [
        "* Nesta etapa foi verificado se os dados haviam realmente sido criados com uma boa distribuição/balanceados, heterogeneidade dos dados, e livres de valores nulos e duplicados.\n",
        "* Remoção de colunas desnecessárias e renomeação de algumas colunas para maior praticidade e manuseio."
      ],
      "metadata": {
        "id": "KVPYEViRHhcP"
      }
    },
    {
      "cell_type": "markdown",
      "source": [
        "* Após os dados estarem prontos para manuseio fora geradas as matrizes de correlação tanto com as formulas de Pearson quanto de Phi-K para compreender a relação de linearidade do conjunto de dados e também a dependência dos valroes em relação a concessão de crédito."
      ],
      "metadata": {
        "id": "cfC9Ec4CPn_5"
      }
    },
    {
      "cell_type": "markdown",
      "source": [
        "* Foi identificada uma alta dimensionalidade no conjunto de dados devido à grande quantidade de colunas, sendo a maioria composta por indicadores financeiros. Como esses indicadores estão, em sua maioria, relacionados à aprovação de crédito, torna-se importante tratar essa dimensionalidade de forma adequada.\n",
        " - Diante disso, será aplicada uma normalização nos dados, seguida de uma Análise de Componentes Principais (PCA), com o objetivo de reduzir a dimensionalidade, preservando ao máximo a variabilidade presente no conjunto original."
      ],
      "metadata": {
        "id": "gXEcSDUlKo97"
      }
    },
    {
      "cell_type": "markdown",
      "source": [
        "* Uma Metáfora para Normalização e PCA: Imagine ter que analisar 30 sabores de sorvete. A normalização garante que cada sabor seja igualmente saboreado, não apenas o chocolate. O PCA encontra os poucos grupos principais de sabores que definem toda a coleção - como 'frutado', 'cremoso', 'nozes' para que você não precise provar todos os 30."
      ],
      "metadata": {
        "id": "JQVXeaS2Oa8J"
      }
    },
    {
      "cell_type": "markdown",
      "source": [
        "## 5. AED (Análise Exploratoria dos Dados)"
      ],
      "metadata": {
        "id": "NEj_bpoYtDcF"
      }
    },
    {
      "cell_type": "markdown",
      "source": [
        "* A principal razão de realizar uma Análise Exploratória dos Dados é reforçar as correlações extraídas a partir das matrizes, levantar hipóteses, detectar padrões e comportamentos plotando e relacionando as variáveis disponíveis no conjunto de dados, com isso podemos apoiar as decisões que serão tomadas pelo modelo de Machine Learning pois ele será um espelho das observações do Dataset.\n"
      ],
      "metadata": {
        "id": "7dDQjSdgSeDN"
      }
    },
    {
      "cell_type": "markdown",
      "source": [
        "* Nesta etapa, foi possível visualizar, por meio de gráficos como mapas de calor, dispersão e distribuição, as relações entre os indicadores financeiros (variáveis quantitativas), suas respectivas notas (variáveis qualitativas) e o impacto conjunto desses fatores na aprovação e liberação do limite de crédito."
      ],
      "metadata": {
        "id": "_03453PoXkZH"
      }
    },
    {
      "cell_type": "markdown",
      "source": [
        "## 6. **Modelagem e Treinamento**"
      ],
      "metadata": {
        "id": "EUCgDNiXtIPz"
      }
    },
    {
      "cell_type": "markdown",
      "source": [
        "**Concessão de Crédito**\n",
        "* Após o pré-processamento, os dados foram divididos em conjuntos de treino e teste, sendo 70% destinados ao treinamento dos modelos e 30% reservados para avaliação em dados não vistos.\n",
        "\n",
        "* Foram utilizados diferentes algoritmos de classificação para comparar o desempenho entre abordagens mais simples e modelos mais robustos. Os modelos testados incluem:\n",
        "     - Árvore de Decisão (Decision Tree)\n",
        "\n",
        "    - Floresta Aleatória (Random Forest)\n",
        "\n",
        "    - XGBoost (Extreme Gradient Boosting)\n",
        "\n",
        "    - Gradient Boosting\n",
        "\n",
        "    - AutoML do H2o, que permite a construção de modelos personalizados para cada caso.\n",
        "\n",
        "A diversidade de algoritmos tem como objetivo avaliar qual a melhor técnica e qual oferece a melhor capacidade de generalização, interpretabilidade e desempenho para o problema de concessão de crédito.\n"
      ],
      "metadata": {
        "id": "fwbzhtkYY6NH"
      }
    },
    {
      "cell_type": "markdown",
      "source": [
        "## 7. **Validação dos Modelos**"
      ],
      "metadata": {
        "id": "EqrPjphFtDeu"
      }
    },
    {
      "cell_type": "markdown",
      "source": [
        "**Concessão de Crédito**\n",
        "* Independente do algoritmo  utilizado, todos eles se tratam de problemas de classificação binária (conceder ou não crédito), logo, as métricas de avaliação serão as mesmas.\n",
        "* As metricas Utilizadas:\n",
        "  - Matriz de Confusão -  permite visualizar os acertos e erros do modelo, separando verdadeiros e falsos positivos/negativos.\n",
        "  - Recall - Mede a capacidade do modelo de identificar corretamente os casos positivos (concessões aprovadas).\n",
        "  - F1-Score - harmônica entre precisão e recall, fornece uma medida balanceada de desempenho.\n",
        "  - Precisão - Indica a proporção de casos classificados como positivos verdadeiros.\n",
        "  - Acurácia: Média entre as probabilidades das taxas de verdadeiros positivos e negativos.\n",
        "\n",
        "* Todas as métricas são dependentes das Matriz de Confusão"
      ],
      "metadata": {
        "id": "LWlM0cEra_iC"
      }
    },
    {
      "cell_type": "markdown",
      "source": [
        "## 8. **Deployment (Implantação do Modelo)**"
      ],
      "metadata": {
        "id": "7LdbpBbTWUmT"
      }
    },
    {
      "cell_type": "markdown",
      "source": [
        "* Após a validação e escolha do melhor modelo com base nas métricas de classificação, o próximo passo é disponibilizá-lo em um ambiente produtivo.\n",
        "\n",
        "* O deployment consiste em transformar o modelo treinado em um serviço que pode ser utilizado por outros sistemas, aplicações ou usuários finais. Esse processo pode ser feito de diversas formas, como:\n",
        "\n",
        "  - Exportação do modelo treinado (por exemplo, usando joblib ou pickle);\n",
        "\n",
        "  - Criação de uma API (por exemplo, com Flask, FastAPI ou via serviços como Azure ML, AWS Sagemaker ou Google Vertex AI);\n",
        "\n",
        "  - Integração com sistemas corporativos (ERPs, CRMs, ferramentas de BI);\n",
        "\n",
        "  - Disponibilização em uma interface interativa, como dashboards (Power BI, Streamlit, etc.) ou chatbots.\n",
        "\n",
        "* O objetivo principal é permitir que novos dados possam ser inseridos e processados pelo modelo de forma automática, retornando previsões como aprovar ou não o crédito e qual o limite sugerido, por exemplo."
      ],
      "metadata": {
        "id": "vNEVLPkdb8lc"
      }
    }
  ]
}