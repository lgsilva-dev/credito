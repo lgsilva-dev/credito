{
 "cells": [
  {
   "cell_type": "markdown",
   "id": "dabdc5d0-6fbf-420c-835c-a5546b435c47",
   "metadata": {},
   "source": [
    "# -- XGB Model --"
   ]
  },
  {
   "cell_type": "code",
   "execution_count": 1,
   "id": "4d77dd86-564d-4b01-83b1-53a2164afd32",
   "metadata": {},
   "outputs": [],
   "source": [
    "#libs\n",
    "import pandas as pd\n",
    "import xgboost as xgb\n",
    "from sklearn.model_selection import train_test_split\n",
    "from sklearn.metrics import classification_report, confusion_matrix, roc_auc_score\n",
    "from sklearn.model_selection import GridSearchCV\n",
    "import matplotlib.pyplot as plt\n",
    "import numpy as np"
   ]
  },
  {
   "cell_type": "code",
   "execution_count": 2,
   "id": "738aa2c6-2ae7-4c5e-84dc-18038485c103",
   "metadata": {},
   "outputs": [
    {
     "data": {
      "text/html": [
       "<div>\n",
       "<style scoped>\n",
       "    .dataframe tbody tr th:only-of-type {\n",
       "        vertical-align: middle;\n",
       "    }\n",
       "\n",
       "    .dataframe tbody tr th {\n",
       "        vertical-align: top;\n",
       "    }\n",
       "\n",
       "    .dataframe thead th {\n",
       "        text-align: right;\n",
       "    }\n",
       "</style>\n",
       "<table border=\"1\" class=\"dataframe\">\n",
       "  <thead>\n",
       "    <tr style=\"text-align: right;\">\n",
       "      <th></th>\n",
       "      <th>Margem EBITDA</th>\n",
       "      <th>Divida liquida/EBTIDA</th>\n",
       "      <th>Indice de liquidez</th>\n",
       "      <th>Ciclo Financeiro</th>\n",
       "      <th>Conversao Ebitda em FCO</th>\n",
       "      <th>Tempo de atuação em anos</th>\n",
       "      <th>Auditorias</th>\n",
       "      <th>PEFIN</th>\n",
       "      <th>Garantia</th>\n",
       "      <th>Seguros</th>\n",
       "      <th>Serasa Score</th>\n",
       "      <th>Target</th>\n",
       "    </tr>\n",
       "  </thead>\n",
       "  <tbody>\n",
       "    <tr>\n",
       "      <th>0</th>\n",
       "      <td>8.44</td>\n",
       "      <td>-0.94</td>\n",
       "      <td>1.94</td>\n",
       "      <td>101</td>\n",
       "      <td>31.81</td>\n",
       "      <td>4</td>\n",
       "      <td>6</td>\n",
       "      <td>0</td>\n",
       "      <td>1</td>\n",
       "      <td>2</td>\n",
       "      <td>900</td>\n",
       "      <td>1</td>\n",
       "    </tr>\n",
       "    <tr>\n",
       "      <th>1</th>\n",
       "      <td>3.70</td>\n",
       "      <td>2.23</td>\n",
       "      <td>0.62</td>\n",
       "      <td>99</td>\n",
       "      <td>-10.16</td>\n",
       "      <td>3</td>\n",
       "      <td>0</td>\n",
       "      <td>1</td>\n",
       "      <td>0</td>\n",
       "      <td>0</td>\n",
       "      <td>50</td>\n",
       "      <td>0</td>\n",
       "    </tr>\n",
       "    <tr>\n",
       "      <th>2</th>\n",
       "      <td>8.00</td>\n",
       "      <td>1.72</td>\n",
       "      <td>0.59</td>\n",
       "      <td>118</td>\n",
       "      <td>73.67</td>\n",
       "      <td>6</td>\n",
       "      <td>2</td>\n",
       "      <td>2</td>\n",
       "      <td>1</td>\n",
       "      <td>0</td>\n",
       "      <td>200</td>\n",
       "      <td>1</td>\n",
       "    </tr>\n",
       "    <tr>\n",
       "      <th>3</th>\n",
       "      <td>3.35</td>\n",
       "      <td>2.19</td>\n",
       "      <td>0.51</td>\n",
       "      <td>51</td>\n",
       "      <td>81.34</td>\n",
       "      <td>2</td>\n",
       "      <td>3</td>\n",
       "      <td>3</td>\n",
       "      <td>2</td>\n",
       "      <td>0</td>\n",
       "      <td>400</td>\n",
       "      <td>1</td>\n",
       "    </tr>\n",
       "    <tr>\n",
       "      <th>4</th>\n",
       "      <td>8.61</td>\n",
       "      <td>-0.17</td>\n",
       "      <td>2.40</td>\n",
       "      <td>21</td>\n",
       "      <td>69.11</td>\n",
       "      <td>4</td>\n",
       "      <td>2</td>\n",
       "      <td>0</td>\n",
       "      <td>2</td>\n",
       "      <td>3</td>\n",
       "      <td>550</td>\n",
       "      <td>1</td>\n",
       "    </tr>\n",
       "  </tbody>\n",
       "</table>\n",
       "</div>"
      ],
      "text/plain": [
       "   Margem EBITDA  Divida liquida/EBTIDA  Indice de liquidez  Ciclo Financeiro  \\\n",
       "0           8.44                  -0.94                1.94               101   \n",
       "1           3.70                   2.23                0.62                99   \n",
       "2           8.00                   1.72                0.59               118   \n",
       "3           3.35                   2.19                0.51                51   \n",
       "4           8.61                  -0.17                2.40                21   \n",
       "\n",
       "   Conversao Ebitda em FCO  Tempo de atuação em anos  Auditorias  PEFIN  \\\n",
       "0                    31.81                         4           6      0   \n",
       "1                   -10.16                         3           0      1   \n",
       "2                    73.67                         6           2      2   \n",
       "3                    81.34                         2           3      3   \n",
       "4                    69.11                         4           2      0   \n",
       "\n",
       "   Garantia  Seguros  Serasa Score  Target  \n",
       "0         1        2           900       1  \n",
       "1         0        0            50       0  \n",
       "2         1        0           200       1  \n",
       "3         2        0           400       1  \n",
       "4         2        3           550       1  "
      ]
     },
     "execution_count": 2,
     "metadata": {},
     "output_type": "execute_result"
    }
   ],
   "source": [
    "#dataframe\n",
    "df = pd.read_csv('df.csv')\n",
    "df.head()"
   ]
  },
  {
   "cell_type": "code",
   "execution_count": 3,
   "id": "cc342218-0e3e-4ddb-a1da-94d46daa31d6",
   "metadata": {},
   "outputs": [
    {
     "name": "stdout",
     "output_type": "stream",
     "text": [
      "<class 'pandas.core.frame.DataFrame'>\n",
      "RangeIndex: 48721 entries, 0 to 48720\n",
      "Data columns (total 12 columns):\n",
      " #   Column                    Non-Null Count  Dtype  \n",
      "---  ------                    --------------  -----  \n",
      " 0   Margem EBITDA             48721 non-null  float64\n",
      " 1   Divida liquida/EBTIDA     48721 non-null  float64\n",
      " 2   Indice de liquidez        48721 non-null  float64\n",
      " 3   Ciclo Financeiro          48721 non-null  int64  \n",
      " 4   Conversao Ebitda em FCO   48721 non-null  float64\n",
      " 5   Tempo de atuação em anos  48721 non-null  int64  \n",
      " 6   Auditorias                48721 non-null  int64  \n",
      " 7   PEFIN                     48721 non-null  int64  \n",
      " 8   Garantia                  48721 non-null  int64  \n",
      " 9   Seguros                   48721 non-null  int64  \n",
      " 10  Serasa Score              48721 non-null  int64  \n",
      " 11  Target                    48721 non-null  int64  \n",
      "dtypes: float64(4), int64(8)\n",
      "memory usage: 4.5 MB\n"
     ]
    }
   ],
   "source": [
    "df.info()"
   ]
  },
  {
   "cell_type": "markdown",
   "id": "2c5e868e-23a1-4299-b585-f4276f338ff4",
   "metadata": {},
   "source": [
    "## Treinamento do Modelo XGB com Grid Search CV"
   ]
  },
  {
   "cell_type": "code",
   "execution_count": 4,
   "id": "c31d9a19-6758-470c-b217-2ee8b696fd8e",
   "metadata": {},
   "outputs": [
    {
     "name": "stdout",
     "output_type": "stream",
     "text": [
      "Dimensões do X_train: (34104, 11)\n",
      "Dimensões do X_test: (14617, 11)\n"
     ]
    }
   ],
   "source": [
    "# 1. Separar features (X) e target (y)\n",
    "X = df.drop(['Target'], axis=1) # Suas features originais\n",
    "y = df['Target']             \n",
    "\n",
    "X_train, X_test, y_train, y_test = train_test_split(X, y, test_size=0.3, random_state=42, stratify=y)\n",
    "\n",
    "print(f\"Dimensões do X_train: {X_train.shape}\")\n",
    "print(f\"Dimensões do X_test: {X_test.shape}\")"
   ]
  },
  {
   "cell_type": "code",
   "execution_count": 5,
   "id": "2f569cc3-17ea-498c-912d-38921562c025",
   "metadata": {},
   "outputs": [
    {
     "name": "stdout",
     "output_type": "stream",
     "text": [
      "\n",
      "Iniciando GridSearchCV para XGBoost...\n",
      "Fitting 5 folds for each of 243 candidates, totalling 1215 fits\n",
      "\n",
      "Melhores parâmetros para XGBoost: {'colsample_bytree': 0.7, 'learning_rate': 0.1, 'max_depth': 3, 'n_estimators': 300, 'subsample': 0.7}\n",
      "Melhor ROC AUC com XGBoost (CV): 0.9997\n",
      "\n",
      "--- Avaliação do XGBoost Otimizado no Conjunto de Teste ---\n",
      "Confusion Matrix:\n",
      "[[4777   16]\n",
      " [ 108 9716]]\n",
      "\n",
      "Classification Report:\n",
      "              precision    recall  f1-score   support\n",
      "\n",
      "           0       0.98      1.00      0.99      4793\n",
      "           1       1.00      0.99      0.99      9824\n",
      "\n",
      "    accuracy                           0.99     14617\n",
      "   macro avg       0.99      0.99      0.99     14617\n",
      "weighted avg       0.99      0.99      0.99     14617\n",
      "\n",
      "\n",
      "ROC AUC Score para XGBoost Otimizado: 0.9997\n"
     ]
    }
   ],
   "source": [
    "# Definir a grade de parâmetros\n",
    "param_grid_xgb = {\n",
    "    'n_estimators': [100, 200, 300],\n",
    "    'learning_rate': [0.01, 0.05, 0.1],\n",
    "    'max_depth': [3, 5, 7],\n",
    "    'subsample': [0.7, 0.8, 0.9],\n",
    "    'colsample_bytree': [0.7, 0.8, 0.9]\n",
    "}\n",
    "\n",
    "# Iniciar o modelo\n",
    "xgb_base = xgb.XGBClassifier(\n",
    "    objective='binary:logistic',\n",
    "    eval_metric='logloss',\n",
    "    random_state=42,\n",
    "    tree_method='hist'\n",
    ")\n",
    "\n",
    "# Configurar o GridSearchCV\n",
    "grid_search_xgb = GridSearchCV(\n",
    "    estimator=xgb_base,\n",
    "    param_grid=param_grid_xgb,\n",
    "    scoring='roc_auc', \n",
    "    cv=5,              # 5-fold cross-validation\n",
    "    n_jobs=-1,         # Usar todos os núcleos da CPU disponíveis\n",
    "    verbose=1          # Para ver o progresso\n",
    ")\n",
    "\n",
    "print(\"\\nIniciando GridSearchCV para XGBoost...\")\n",
    "grid_search_xgb.fit(X_train, y_train)\n",
    "\n",
    "print(f\"\\nMelhores parâmetros para XGBoost: {grid_search_xgb.best_params_}\")\n",
    "print(f\"Melhor ROC AUC com XGBoost (CV): {grid_search_xgb.best_score_:.4f}\")\n",
    "\n",
    "# Avaliar o melhor estimador no conjunto de teste\n",
    "best_xgb_model = grid_search_xgb.best_estimator_\n",
    "y_pred_best_xgb = best_xgb_model.predict(X_test)\n",
    "y_pred_proba_best_xgb = best_xgb_model.predict_proba(X_test)[:, 1]\n",
    "\n",
    "print(\"\\n--- Avaliação do XGBoost Otimizado no Conjunto de Teste ---\")\n",
    "print(\"Confusion Matrix:\")\n",
    "print(confusion_matrix(y_test, y_pred_best_xgb))\n",
    "print(\"\\nClassification Report:\")\n",
    "print(classification_report(y_test, y_pred_best_xgb))\n",
    "print(f\"\\nROC AUC Score para XGBoost Otimizado: {roc_auc_score(y_test, y_pred_proba_best_xgb):.4f}\")"
   ]
  },
  {
   "cell_type": "code",
   "execution_count": 6,
   "id": "04b98cf5-91fa-4c24-8549-80f0edd90829",
   "metadata": {},
   "outputs": [],
   "source": [
    "importances_xgb = best_xgb_model.get_booster().get_score(importance_type='gain')\n",
    "\n",
    "# Criar um DataFrame para facilitar a ordenação\n",
    "feature_importance_df_xgb = pd.DataFrame({\n",
    "    'Feature': list(importances_xgb.keys()),\n",
    "    'Importance': list(importances_xgb.values())\n",
    "})"
   ]
  },
  {
   "cell_type": "code",
   "execution_count": 7,
   "id": "cf040797-9dea-41a6-9166-0b20326a9fc3",
   "metadata": {},
   "outputs": [
    {
     "name": "stdout",
     "output_type": "stream",
     "text": [
      "\n",
      "--- Feature Importances do XGBoost (Top 10) ---\n",
      "                     Feature  Importance\n",
      "1      Divida liquida/EBTIDA  543.977539\n",
      "0              Margem EBITDA  133.009079\n",
      "2         Indice de liquidez  131.934509\n",
      "6                 Auditorias   35.530491\n",
      "4    Conversao Ebitda em FCO   29.103680\n",
      "8                   Garantia   23.847261\n",
      "10              Serasa Score   22.895164\n",
      "9                    Seguros   20.362888\n",
      "5   Tempo de atuação em anos   11.318794\n",
      "7                      PEFIN    9.544507\n"
     ]
    }
   ],
   "source": [
    "# Ordenar as features por importância\n",
    "feature_importance_df_xgb = feature_importance_df_xgb.sort_values(by='Importance', ascending=False)\n",
    "\n",
    "print(\"\\n--- Feature Importances do XGBoost (Top 10) ---\")\n",
    "print(feature_importance_df_xgb.head(10))"
   ]
  },
  {
   "cell_type": "markdown",
   "id": "39a056b3-0b82-49dc-90dc-c6cef0b7e89f",
   "metadata": {},
   "source": [
    "## Teste de utilização do modelo.\n",
    "* Desempacotar o .pkl e passar um novo dicionário de dados para o modelo dar uma reposta baseada no aprendizado."
   ]
  },
  {
   "cell_type": "code",
   "execution_count": 14,
   "id": "04a63cc9-2db2-442f-93a8-40adee594a88",
   "metadata": {},
   "outputs": [
    {
     "name": "stdout",
     "output_type": "stream",
     "text": [
      "Modelo XGBoost salvo com sucesso!\n",
      "Tipo do objeto carregado: <class 'xgboost.sklearn.XGBClassifier'>\n"
     ]
    }
   ],
   "source": [
    "import joblib\n",
    "\n",
    "# --- Carregar o Modelo Salvo ---\n",
    "try:\n",
    "    modelo = joblib.load('best_xgboost_credit_model.pkl')\n",
    "    print(\"Modelo XGBoost salvo com sucesso!\")\n",
    "    print(f\"Tipo do objeto carregado: {type(modelo)}\") # Adicione esta linha para verificar\n",
    "except FileNotFoundError:\n",
    "    print(\"Erro: O arquivo 'best_xgboost_credit_model.pkl' não foi encontrado.\")\n",
    "    exit()"
   ]
  },
  {
   "cell_type": "code",
   "execution_count": 15,
   "id": "18d1a6ca-53fe-468d-9655-bdd982b417ce",
   "metadata": {},
   "outputs": [],
   "source": [
    "indicadores = ['Margem EBITDA', 'Divida liquida/EBTIDA',  'Indice de liquidez',\n",
    "                  'Ciclo Financeiro', 'Conversao Ebitda em FCO', 'Tempo de atuação em anos', \n",
    "                 'Auditorias', 'PEFIN',  'Garantia', 'Seguros',  'Serasa Score', ]\n",
    "\n",
    "# --- Nova amostra de dados ---\n",
    "\n",
    "amostra = [\n",
    "    5.15,       # Margem EBITDA\n",
    "    -2.23,      # Divida liquida/EBTIDA \n",
    "    1.9,        # Indice de liquidez\n",
    "    30,         # Ciclo Financeiro\n",
    "    0.2,        # Conversao Ebitda em FCO\n",
    "    3,          # Tempo de atuação em anos\n",
    "    1,          # Auditorias \n",
    "    1,          # PEFIN \n",
    "    1,          # Garantia \n",
    "    1,          # Seguros \n",
    "    850,        # Serasa Score\n",
    "]"
   ]
  },
  {
   "cell_type": "code",
   "execution_count": 16,
   "id": "f5892082-2e4e-4557-8af1-19c9fa6dfa8c",
   "metadata": {},
   "outputs": [
    {
     "name": "stdout",
     "output_type": "stream",
     "text": [
      "\n",
      "Dados da nova empresa para previsão:\n"
     ]
    },
    {
     "data": {
      "text/html": [
       "<div>\n",
       "<style scoped>\n",
       "    .dataframe tbody tr th:only-of-type {\n",
       "        vertical-align: middle;\n",
       "    }\n",
       "\n",
       "    .dataframe tbody tr th {\n",
       "        vertical-align: top;\n",
       "    }\n",
       "\n",
       "    .dataframe thead th {\n",
       "        text-align: right;\n",
       "    }\n",
       "</style>\n",
       "<table border=\"1\" class=\"dataframe\">\n",
       "  <thead>\n",
       "    <tr style=\"text-align: right;\">\n",
       "      <th></th>\n",
       "      <th>Margem EBITDA</th>\n",
       "      <th>Divida liquida/EBTIDA</th>\n",
       "      <th>Indice de liquidez</th>\n",
       "      <th>Ciclo Financeiro</th>\n",
       "      <th>Conversao Ebitda em FCO</th>\n",
       "      <th>Tempo de atuação em anos</th>\n",
       "      <th>Auditorias</th>\n",
       "      <th>PEFIN</th>\n",
       "      <th>Garantia</th>\n",
       "      <th>Seguros</th>\n",
       "      <th>Serasa Score</th>\n",
       "    </tr>\n",
       "  </thead>\n",
       "  <tbody>\n",
       "    <tr>\n",
       "      <th>0</th>\n",
       "      <td>5.15</td>\n",
       "      <td>-2.23</td>\n",
       "      <td>1.9</td>\n",
       "      <td>30</td>\n",
       "      <td>0.2</td>\n",
       "      <td>3</td>\n",
       "      <td>1</td>\n",
       "      <td>1</td>\n",
       "      <td>1</td>\n",
       "      <td>1</td>\n",
       "      <td>850</td>\n",
       "    </tr>\n",
       "  </tbody>\n",
       "</table>\n",
       "</div>"
      ],
      "text/plain": [
       "   Margem EBITDA  Divida liquida/EBTIDA  Indice de liquidez  Ciclo Financeiro  \\\n",
       "0           5.15                  -2.23                 1.9                30   \n",
       "\n",
       "   Conversao Ebitda em FCO  Tempo de atuação em anos  Auditorias  PEFIN  \\\n",
       "0                      0.2                         3           1      1   \n",
       "\n",
       "   Garantia  Seguros  Serasa Score  \n",
       "0         1        1           850  "
      ]
     },
     "execution_count": 16,
     "metadata": {},
     "output_type": "execute_result"
    }
   ],
   "source": [
    "if len(amostra) != len(indicadores):\n",
    "    raise ValueError(f\"O número de valores na lista ({len(amostra)}) não corresponde ao número de features ({len(indicadores)})\")\n",
    "amostra_df = pd.DataFrame([amostra], columns=indicadores)\n",
    "print(\"\\nDados da nova empresa para previsão:\")\n",
    "amostra_df"
   ]
  },
  {
   "cell_type": "code",
   "execution_count": 17,
   "id": "1e7c78df-b0da-4a92-8294-fd9c21adda34",
   "metadata": {},
   "outputs": [
    {
     "name": "stdout",
     "output_type": "stream",
     "text": [
      "\n",
      "Resultado da Previsão da Amostra (0 = Negar, 1 = Conceder): 1\n"
     ]
    }
   ],
   "source": [
    "# Prever a classe 0 ou 1 (reprovado ou aprovado)\n",
    "previsao = modelo.predict(amostra_df)\n",
    "print(f\"\\nResultado da Previsão da Amostra (0 = Negar, 1 = Conceder): {previsao[0]}\")"
   ]
  },
  {
   "cell_type": "code",
   "execution_count": 22,
   "id": "767203fe-0cc9-4e8e-a7ff-56f3b1c4bc11",
   "metadata": {},
   "outputs": [
    {
     "name": "stdout",
     "output_type": "stream",
     "text": [
      "Probabilidade de Negar Crédito (Classe 0): 5.24%\n",
      "Probabilidade de Conceder Crédito (Classe 1): 94.76%\n"
     ]
    }
   ],
   "source": [
    "proba = modelo.predict_proba(amostra_df)\n",
    "print(f\"Probabilidade de Negar Crédito (Classe 0): {proba[0][0]*100:.2f}%\")\n",
    "print(f\"Probabilidade de Conceder Crédito (Classe 1): {proba[0][1]*100:.2f}%\")"
   ]
  }
 ],
 "metadata": {
  "kernelspec": {
   "display_name": "Python 3 (ipykernel)",
   "language": "python",
   "name": "python3"
  },
  "language_info": {
   "codemirror_mode": {
    "name": "ipython",
    "version": 3
   },
   "file_extension": ".py",
   "mimetype": "text/x-python",
   "name": "python",
   "nbconvert_exporter": "python",
   "pygments_lexer": "ipython3",
   "version": "3.12.7"
  }
 },
 "nbformat": 4,
 "nbformat_minor": 5
}
